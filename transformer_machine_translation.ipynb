{
 "cells": [
  {
   "cell_type": "markdown",
   "metadata": {
    "id": "ITSvCy4Zdvyw"
   },
   "source": [
    "### 1. Prepare Data"
   ]
  },
  {
   "cell_type": "code",
   "execution_count": null,
   "metadata": {
    "id": "VZ876c-3dvyy"
   },
   "outputs": [],
   "source": [
    "import os\n",
    "import math\n",
    "import copy\n",
    "import time\n",
    "import numpy as np\n",
    "import torch\n",
    "import torch.nn as nn\n",
    "import torch.nn.functional as F\n",
    "\n",
    "from nltk import word_tokenize\n",
    "from collections import Counter\n",
    "from torch.autograd import Variable"
   ]
  },
  {
   "cell_type": "code",
   "execution_count": null,
   "metadata": {
    "id": "cl-8Zin1dvyz"
   },
   "outputs": [],
   "source": [
    "# initialize the parameters\n",
    "\n",
    "UNK = 0  # id for unknown word\n",
    "PAD = 1  # id for padding\n",
    "BATCH_SIZE = 64 \n",
    "EPOCHS = 20 \n",
    "LAYERS = 6\n",
    "H_NUM = 8  # multihead attention hidden size\n",
    "D_MODEL = 256  # embedding size\n",
    "D_FF = 1024  # feed forward fc layer dimension\n",
    "DROPOUT = 0.1  \n",
    "MAX_LENGTH = 60  # max length of the sentence"
   ]
  },
  {
   "cell_type": "code",
   "execution_count": null,
   "metadata": {
    "id": "qJY9MrFne2Wg"
   },
   "outputs": [],
   "source": [
    "TRAIN_FILE = '/train.txt'  \n",
    "DEV_FILE = \"/dev.txt\"  \n",
    "SAVE_FILE = '/model.pt'\n"
   ]
  },
  {
   "cell_type": "code",
   "execution_count": null,
   "metadata": {
    "id": "TG4Voir-dvyz"
   },
   "outputs": [],
   "source": [
    "# TRAIN_FILE = 'nmt/en-cn/train.txt'  \n",
    "# DEV_FILE = \"nmt/en-cn/dev.txt\"  \n",
    "# SAVE_FILE = 'save/model.pt'\n",
    "DEVICE = torch.device(\"cuda\" if torch.cuda.is_available() else \"cpu\")"
   ]
  },
  {
   "cell_type": "markdown",
   "metadata": {
    "id": "mUdXBfbsdvy0"
   },
   "source": [
    "### 2. Data Preprocessing"
   ]
  },
  {
   "cell_type": "markdown",
   "metadata": {
    "id": "Y2n6L8DJdvy0"
   },
   "source": [
    "### Text preprocessing\n",
    "####   Use padding to make sure all sentences are the same length"
   ]
  },
  {
   "cell_type": "code",
   "execution_count": null,
   "metadata": {
    "id": "pSMEw0bYdvy0"
   },
   "outputs": [],
   "source": [
    "def seq_padding(X, padding=0):\n",
    "\n",
    "    # get the length of each sentence\n",
    "    L = [len(x) for x in X]\n",
    "    # get the max len\n",
    "    ML = max(L)\n",
    "    \n",
    "    return np.array([\n",
    "        np.concatenate([x, [padding] * (ML - len(x))]) if len(x) < ML else x for x in X\n",
    "    ])"
   ]
  },
  {
   "cell_type": "markdown",
   "metadata": {
    "id": "QBbzJ3CJdvy1"
   },
   "source": [
    "#### Convert the traditional chinese into simplified chinese"
   ]
  },
  {
   "cell_type": "code",
   "execution_count": null,
   "metadata": {
    "id": "kT5ETBgQdvy1"
   },
   "outputs": [],
   "source": [
    "def cht_to_chs(sent):\n",
    "    sent = Converter(\"zh-hans\").convert(sent)\n",
    "    sent.encode(\"utf-8\")\n",
    "    return sent"
   ]
  },
  {
   "cell_type": "markdown",
   "metadata": {
    "id": "ju7aIfSidvy1"
   },
   "source": [
    "#### Prepare the data by:\n",
    "1. loading the data\n",
    "2. building the vocab\n",
    "3. converting the word to id\n",
    "4. splitting the batch"
   ]
  },
  {
   "cell_type": "code",
   "execution_count": null,
   "metadata": {
    "id": "2Q-AThavdvy1"
   },
   "outputs": [],
   "source": [
    "class PrepareData:\n",
    "    \n",
    "    def __init__(self, train_file, dev_file):\n",
    "        # load the data\n",
    "        self.train_en, self.train_cn = self.load_data(train_file)\n",
    "        self.dev_en, self.dev_cn = self.load_data(dev_file)\n",
    "\n",
    "        # build the vocab\n",
    "        self.en_word_dict, self.en_total_words, self.en_index_dict = self.build_dict(self.train_en)\n",
    "        self.cn_word_dict, self.cn_total_words, self.cn_index_dict = self.build_dict(self.train_cn)\n",
    "\n",
    "        # word to id\n",
    "        self.train_en, self.train_cn = self.wordToID(self.train_en, self.train_cn, self.en_word_dict, self.cn_word_dict)\n",
    "        self.dev_en, self.dev_cn = self.wordToID(self.dev_en, self.dev_cn, self.en_word_dict, self.cn_word_dict)\n",
    "\n",
    "        # split the batch\n",
    "        self.train_data = self.splitBatch(self.train_en, self.train_cn, BATCH_SIZE)\n",
    "        self.dev_data = self.splitBatch(self.dev_en, self.dev_cn, BATCH_SIZE)\n",
    "\n",
    "    def load_data(self, path):\n",
    "        \"\"\"\n",
    "        load the data and add BOS/EOS tag at the start/end of each sentence\n",
    "        \"\"\"\n",
    "        en = []\n",
    "        cn = []\n",
    "\n",
    "        with open(path, 'r', encoding='utf-8') as fin:\n",
    "            for line in fin:\n",
    "                list_arr = line.split('\\t')\n",
    "                en_sentence = list_arr[0]\n",
    "                en.append(['BOS'] + word_tokenize(en_sentence.lower()) + ['EOS'])\n",
    "                cn.append(['BOS'] + word_tokenize(\" \".join(list_arr[1])) + ['EOS'])\n",
    "        \n",
    "        return en, cn\n",
    "    \n",
    "    def build_dict(self, sentences, max_words = 50000):\n",
    "\n",
    "        word_count = Counter()\n",
    "\n",
    "        for sentence in sentences:\n",
    "            for s in sentence:\n",
    "                word_count[s] += 1\n",
    "        # keep the top n most common words, n = max_words\n",
    "        ls = word_count.most_common(max_words)\n",
    "        \n",
    "        total_words = len(ls) + 2\n",
    "\n",
    "        word_dict = {w[0]: index + 2 for index, w in enumerate(ls)}\n",
    "        word_dict['UNK'] = UNK\n",
    "        word_dict['PAD'] = PAD\n",
    "        \n",
    "        index_dict = {v: k for k, v in word_dict.items()}\n",
    "\n",
    "        return word_dict, total_words, index_dict\n",
    "\n",
    "    def wordToID(self, en, cn, en_dict, cn_dict, sort=True):\n",
    "\n",
    "        # the length of the ENG text\n",
    "        length = len(en)\n",
    "        \n",
    "        # word to id\n",
    "        out_en_ids = [[en_dict.get(word, 0) for word in sentence]for sentence in en]\n",
    "        out_cn_ids = [[cn_dict.get(word, 0) for word in sentence]for sentence in cn]\n",
    "\n",
    "        # sort the sentences by length\n",
    "        def len_argsort(seq):\n",
    "\n",
    "            return sorted(range(len(seq)), key=lambda x: len(seq[x]))\n",
    "\n",
    "        # sort CN and ENG sentences\n",
    "        if sort:\n",
    "            sorted_index = len_argsort(out_en_ids)\n",
    "            \n",
    "            out_en_ids = [out_en_ids[s_idx] for s_idx in sorted_index]\n",
    "            out_cn_ids = [out_cn_ids[s_idx] for s_idx in sorted_index]\n",
    "            \n",
    "        return out_en_ids, out_cn_ids\n",
    "\n",
    "    def splitBatch(self, en, cn, batch_size, shuffle=True):\n",
    "\n",
    "        # [0, 1, ..., len(en)-1]\n",
    "        # get each batch by chunking the data into same batch_size\n",
    "        idx_list = np.arange(0, len(en), batch_size)\n",
    "        # shuffle\n",
    "        if shuffle:\n",
    "            np.random.shuffle(idx_list)\n",
    "        batch_indexs = []\n",
    "        for idx in idx_list:\n",
    "            \"\"\"\n",
    "                [array([4, 5, 6, 7]), \n",
    "                 array([0, 1, 2, 3]), \n",
    "                 array([8, 9, 10, 11]),\n",
    "                 ...]\n",
    "            \"\"\"\n",
    "            batch_indexs.append(np.arange(idx, min(idx + batch_size, len(en))))\n",
    "\n",
    "        batches = []\n",
    "        for batch_index in batch_indexs:\n",
    "            # get the word id\n",
    "            batch_en = [en[index] for index in batch_index]  \n",
    "            batch_cn = [cn[index] for index in batch_index]\n",
    "            # padding into same length\n",
    "            # batch × batch_size × max_len\n",
    "            batch_cn = seq_padding(batch_cn)\n",
    "            batch_en = seq_padding(batch_en)\n",
    "            batches.append(Batch(batch_en, batch_cn))\n",
    "\n",
    "        return batches"
   ]
  },
  {
   "cell_type": "code",
   "execution_count": null,
   "metadata": {
    "id": "qM-L2UbRdvy4"
   },
   "outputs": [],
   "source": [
    "class Embeddings(nn.Module):\n",
    "    def __init__(self, d_model, vocab):\n",
    "        super(Embeddings, self).__init__()\n",
    "        # Embedding layer\n",
    "        self.lut = nn.Embedding(vocab, d_model)\n",
    "        # Embedding dimension\n",
    "        self.d_model = d_model\n",
    "\n",
    "    def forward(self, x):\n",
    "        # return and multiply by math.sqrt(d_model)\n",
    "        return self.lut(x) * math.sqrt(self.d_model)"
   ]
  },
  {
   "cell_type": "markdown",
   "metadata": {
    "id": "ybTslu6Udvy6"
   },
   "source": [
    "### Positional Encoding"
   ]
  },
  {
   "cell_type": "markdown",
   "metadata": {
    "id": "bONkO8gCdvy6"
   },
   "source": [
    "Accoding to the paper **attention is all you need**（ https://arxiv.org/pdf/1706.03762.pdf , the model uses $sine$ and $cosine$ functions as an indicator of the position in sentence：   \n",
    "  \n",
    "$$PE_{(pos,2i)} = sin(pos / 10000^{2i/d_{\\text{model}}}) \\quad \\quad PE_{(pos,2i+1)} = cos(pos / 10000^{2i/d_{\\text{model}}})\\tag{eq.1}$$  "
   ]
  },
  {
   "cell_type": "code",
   "execution_count": null,
   "metadata": {
    "id": "qVpn18gsdvy6"
   },
   "outputs": [],
   "source": [
    "import matplotlib.pyplot as plt\n",
    "import seaborn as sns"
   ]
  },
  {
   "cell_type": "code",
   "execution_count": null,
   "metadata": {
    "id": "atljqO38dvy6"
   },
   "outputs": [],
   "source": [
    "class PositionalEncoding(nn.Module):\n",
    "    def __init__(self, d_model, dropout, max_len=5000):\n",
    "        super(PositionalEncoding, self).__init__()\n",
    "        self.dropout = nn.Dropout(p=dropout)\n",
    "        \n",
    "        # initialize a tensor for positional embedding\n",
    "        pe = torch.zeros(max_len, d_model, device=DEVICE)\n",
    "\n",
    "        position = torch.arange(0., max_len, device=DEVICE).unsqueeze(1)\n",
    "        # calculate the div\n",
    "        div_term = torch.exp(torch.arange(0., d_model, 2, device=DEVICE) * -(math.log(10000.0) / d_model))\n",
    "        \n",
    "        # calculate the positional embedding\n",
    "        pe[:, 0::2] = torch.sin(position * div_term)\n",
    "        pe[:, 1::2] = torch.cos(position * div_term)\n",
    "        \n",
    "        # add one layer，(1, max_len, embedding_size)\n",
    "        pe = pe.unsqueeze(0) \n",
    "        self.register_buffer('pe', pe)\n",
    "\n",
    "    def forward(self, x):\n",
    "        # sum the batch sentence embedding with positional embedding\n",
    "        x = x + Variable(self.pe[:, :x.size(1)], requires_grad=False)\n",
    "        return self.dropout(x)"
   ]
  },
  {
   "cell_type": "markdown",
   "metadata": {
    "id": "pmYalO6Advy7"
   },
   "source": [
    "### self attention"
   ]
  },
  {
   "cell_type": "code",
   "execution_count": null,
   "metadata": {
    "id": "IXyglncEdvy7"
   },
   "outputs": [],
   "source": [
    "def attention(query, key, value, mask=None, dropout=None):\n",
    "    #  the dimension of the key vectors\n",
    "    d_k = query.size(-1)\n",
    "    \n",
    "    # transpose the dimentions of the key vector \n",
    "    # and cal the dot product of query and key and then divide by square root of d_k\n",
    "    scores = torch.matmul(query, key.transpose(-2, -1)) / math.sqrt(d_k)\n",
    "    \n",
    "    # replace 0 with large negative number\n",
    "    if mask is not None:\n",
    "        scores = scores.masked_fill(mask == 0, -1e9)\n",
    "        \n",
    "    p_attn = F.softmax(scores, dim = -1)\n",
    "    \n",
    "    if dropout is not None:\n",
    "        p_attn = dropout(p_attn)\n",
    "    \n",
    "    # return the dot product of the score and value, and attention matrix\n",
    "    return torch.matmul(p_attn, value), p_attn\n",
    "\n",
    "\n",
    "class MultiHeadedAttention(nn.Module):\n",
    "    def __init__(self, h, d_model, dropout=0.1):\n",
    "        super(MultiHeadedAttention, self).__init__()\n",
    "\n",
    "        assert d_model % h == 0\n",
    "        # head dimension\n",
    "        self.d_k = d_model // h\n",
    "        # number of heads\n",
    "        self.h = h\n",
    "        # initiate 4 fc layers\n",
    "        self.linears = clones(nn.Linear(d_model, d_model), 4)\n",
    "        self.attn = None\n",
    "        self.dropout = nn.Dropout(p=dropout)\n",
    "\n",
    "    def forward(self, query, key, value, mask=None):\n",
    "        if mask is not None:\n",
    "            mask = mask.unsqueeze(1)\n",
    "        \n",
    "        nbatches = query.size(0)\n",
    "\n",
    "        # multiply the embeddings with query, vector and key\n",
    "        # and devide them into h heads\n",
    "        query, key, value = [l(x).view(nbatches, -1, self.h, self.d_k).transpose(1, 2) \n",
    "                             for l, x in zip(self.linears, (query, key, value))]\n",
    "\n",
    "        # return the multi attention heads and attention matrix\n",
    "        x, self.attn = attention(query, key, value, mask=mask, dropout=self.dropout)\n",
    "        # concat the attention heads\n",
    "        x = x.transpose(1, 2).contiguous().view(nbatches, -1, self.h * self.d_k)\n",
    "\n",
    "        return self.linears[-1](x)"
   ]
  },
  {
   "cell_type": "markdown",
   "metadata": {
    "id": "Lq88GpXrdvy7"
   },
   "source": [
    "### Attention Mask"
   ]
  },
  {
   "cell_type": "code",
   "execution_count": null,
   "metadata": {
    "id": "GOkBkfGfdvy8"
   },
   "outputs": [],
   "source": [
    "class Batch:\n",
    "    \"Object for holding a batch of data with mask during training.\"\n",
    "    def __init__(self, src, trg=None, pad=0):\n",
    "        \n",
    "        src = torch.from_numpy(src).to(DEVICE).long()\n",
    "        trg = torch.from_numpy(trg).to(DEVICE).long()\n",
    "        self.src = src\n",
    "        # \n",
    "        # 1×seq length\n",
    "        self.src_mask = (src != pad).unsqueeze(-2)\n",
    "        # if t rg is not None，then mask the target text in decoder\n",
    "        if trg is not None:\n",
    "            # decoder target\n",
    "            self.trg = trg[:, :-1]\n",
    "            # decoder target output\n",
    "            self.trg_y = trg[:, 1:]\n",
    "            # target attention mask\n",
    "            self.trg_mask = self.make_std_mask(self.trg, pad)\n",
    "            self.ntokens = (self.trg_y != pad).data.sum()\n",
    "    \n",
    "    # Mask\n",
    "    @staticmethod\n",
    "    def make_std_mask(tgt, pad):\n",
    "        \"Create a mask to hide padding and future words.\"\n",
    "        tgt_mask = (tgt != pad).unsqueeze(-2)\n",
    "        tgt_mask = tgt_mask & Variable(subsequent_mask(tgt.size(-1)).type_as(tgt_mask.data))\n",
    "        return tgt_mask"
   ]
  },
  {
   "cell_type": "markdown",
   "metadata": {
    "id": "mVTFJPKDdvy8"
   },
   "source": [
    "### Layer Normalization"
   ]
  },
  {
   "cell_type": "markdown",
   "metadata": {
    "id": "HKB5TfdJdvy8"
   },
   "source": [
    "$$LayerNorm(x)=\\alpha \\odot \\frac{x_{ij}-\\mu_{i}}\n",
    "{\\sqrt{\\sigma^{2}_{i}+\\epsilon}} + \\beta \\tag{eq.5}$$ "
   ]
  },
  {
   "cell_type": "code",
   "execution_count": null,
   "metadata": {
    "id": "XHWVYlOKdvy8"
   },
   "outputs": [],
   "source": [
    "class LayerNorm(nn.Module):\n",
    "    def __init__(self, features, eps=1e-6):\n",
    "        super(LayerNorm, self).__init__()\n",
    "        # initiate α and β\n",
    "        self.a_2 = nn.Parameter(torch.ones(features))\n",
    "        self.b_2 = nn.Parameter(torch.zeros(features))\n",
    "        # smoothing parameter\n",
    "        self.eps = eps\n",
    "    \n",
    "    def forward(self, x):\n",
    "        mean = x.mean(-1, keepdim = True)\n",
    "        std = x.std(-1, keepdim = True)\n",
    "        div = torch.sqrt(std*std+self.eps)\n",
    "        \n",
    "        out = self.a_2*((x - mean)/div) + self.b_2\n",
    "        return out"
   ]
  },
  {
   "cell_type": "markdown",
   "metadata": {
    "id": "nnA_4HGCdvy8"
   },
   "source": [
    "#### Actually there is a function in Pytorch called ***nn.LayerNorm*** which we can simply use for layer normalization"
   ]
  },
  {
   "cell_type": "markdown",
   "metadata": {
    "id": "tLAlB2Eedvy9"
   },
   "source": [
    "### SubLayer"
   ]
  },
  {
   "cell_type": "markdown",
   "metadata": {
    "id": "LjZ1ZAHpdvy9"
   },
   "source": [
    "Each sub-layer (self-attention, ffnn) in each encoder has a residual connection around it, and is followed by a layer-normalization step. Which means we will add the result and the value before this result together.\n",
    "$$X + SubLayer(X) $$  "
   ]
  },
  {
   "cell_type": "code",
   "execution_count": null,
   "metadata": {
    "id": "SEO2DIKZdvy9"
   },
   "outputs": [],
   "source": [
    "class SublayerConnection(nn.Module):\n",
    "    def __init__(self, size, dropout):\n",
    "        super(SublayerConnection, self).__init__()\n",
    "        self.norm = LayerNorm(size)\n",
    "        self.dropout = nn.Dropout(dropout)\n",
    "\n",
    "    def forward(self, x, sublayer):\n",
    "        _x = self.norm(x)\n",
    "        _x = sublayer(_x)\n",
    "        _x = self.dropout(_x)\n",
    "    \n",
    "        return x + _x"
   ]
  },
  {
   "cell_type": "markdown",
   "metadata": {
    "id": "JgNL6jljdvy9"
   },
   "source": [
    "### Transformer Encoder"
   ]
  },
  {
   "cell_type": "markdown",
   "metadata": {
    "id": "FpJy26VMdvy9"
   },
   "source": [
    "Here is the summary of the tranformer encoder block:\n",
    "\n",
    "1. **Word embedding and positional embedding**\n",
    "$$X = EmbeddingLookup(X) + PositionalEncoding \\tag{eq.2}$$\n",
    "$$X \\in \\mathbb{R}^{batch \\ size  \\ * \\  seq. \\ len. \\  * \\  embed. \\ dim.} $$ \n",
    "\n",
    "2. **Self Attention**\n",
    "$$Q = Linear(X) = XW_{Q}$$ \n",
    "$$K = Linear(X) = XW_{K} \\tag{eq.3}$$\n",
    "$$V = Linear(X) = XW_{V}$$\n",
    "$$X_{attention} = SelfAttention(Q, \\ K, \\ V) \\tag{eq.4}$$ \n",
    "\n",
    "3. **Layer Normalization and sub layer**\n",
    "$$X_{attention} = LayerNorm(X_{attention}) \\tag{eq. 5}$$\n",
    "$$X_{attention} = X + X_{attention} \\tag{eq. 6}$$ \n",
    "\n",
    "4. **FeedForward and Relu**\n",
    "$$X_{hidden} = Linear(Activate(Linear(X_{attention}))) \\tag{eq. 7}$$ \n",
    "\n",
    "5. **Repeat step3**\n",
    "$$X_{hidden} = LayerNorm(X_{hidden})$$\n",
    "$$X_{hidden} = X_{attention} + X_{hidden}$$\n",
    "$$X_{hidden} \\in \\mathbb{R}^{batch \\ size  \\ * \\  seq. \\ len. \\  * \\  embed. \\ dim.} $$"
   ]
  },
  {
   "cell_type": "code",
   "execution_count": null,
   "metadata": {
    "id": "IUoGtET7dvy-"
   },
   "outputs": [],
   "source": [
    "def clones(module, N):\n",
    "    \n",
    "    return nn.ModuleList([copy.deepcopy(module) for _ in range(N)])"
   ]
  },
  {
   "cell_type": "markdown",
   "metadata": {
    "id": "zQ-VSEk9dvy-"
   },
   "source": [
    "### FeedForward"
   ]
  },
  {
   "cell_type": "code",
   "execution_count": null,
   "metadata": {
    "id": "CvBORsladvy-"
   },
   "outputs": [],
   "source": [
    "class PositionwiseFeedForward(nn.Module):\n",
    "    def __init__(self, d_model, d_ff, dropout=0.1):\n",
    "        super(PositionwiseFeedForward, self).__init__()\n",
    "        self.w_1 = nn.Linear(d_model, d_ff)\n",
    "        self.w_2 = nn.Linear(d_ff, d_model)\n",
    "        self.dropout = nn.Dropout(dropout)\n",
    "    \n",
    "    def forward(self, x):\n",
    "        out = F.relu(self.w_1(x))\n",
    "        out = self.dropout(out)\n",
    "        out = self.w_2(out)\n",
    "        \n",
    "        return out  "
   ]
  },
  {
   "cell_type": "markdown",
   "metadata": {
    "id": "-x-hKrtHdvy-"
   },
   "source": [
    "### Encoder layer N=6"
   ]
  },
  {
   "cell_type": "code",
   "execution_count": null,
   "metadata": {
    "id": "JxYieoUxdvy-"
   },
   "outputs": [],
   "source": [
    "class Encoder(nn.Module):\n",
    "    # layer = EncoderLayer\n",
    "    # N = 6\n",
    "    def __init__(self, layer, N):\n",
    "        super(Encoder, self).__init__()\n",
    "        # clone N encoder layers\n",
    "        self.layers = clones(layer, N)\n",
    "        # Layer Norm\n",
    "        self.norm = LayerNorm(layer.size)\n",
    "    \n",
    "    def forward(self, x, mask):\n",
    "        for layer in self.layers:\n",
    "            x = layer(x, mask)\n",
    "        \n",
    "        return self.norm(x)"
   ]
  },
  {
   "cell_type": "markdown",
   "metadata": {
    "id": "-qSxhczCdvy-"
   },
   "source": [
    "Every Encoder Block has two sub layers:\n",
    "    1. Attention layer\n",
    "    2. Position-wise Feed Forwrd NN"
   ]
  },
  {
   "cell_type": "code",
   "execution_count": null,
   "metadata": {
    "id": "JDsKVd0Ydvy_"
   },
   "outputs": [],
   "source": [
    "class EncoderLayer(nn.Module):\n",
    "    def __init__(self, size, self_attn, feed_forward, dropout):\n",
    "        super(EncoderLayer, self).__init__()\n",
    "        self.self_attn = self_attn\n",
    "        self.feed_forward = feed_forward\n",
    "        self.sublayer = clones(SublayerConnection(size, dropout),2)\n",
    "        self.size = size\n",
    "    \n",
    "    def forward(self, x, mask):\n",
    "        # self attention on embedding layer\n",
    "        x = self.sublayer[0](x, lambda x: self.self_attn(x, x, x, mask))\n",
    "        \n",
    "        return self.sublayer[1](x, self.feed_forward)"
   ]
  },
  {
   "cell_type": "markdown",
   "metadata": {
    "id": "jaGQvqR4dvy_"
   },
   "source": [
    "### Decoder"
   ]
  },
  {
   "cell_type": "code",
   "execution_count": null,
   "metadata": {
    "id": "CmfstCDvdvy_"
   },
   "outputs": [],
   "source": [
    "class Decoder(nn.Module):\n",
    "    def __init__(self, layer, N):\n",
    "        super(Decoder, self).__init__()\n",
    "        self.layers = clones(layer, N)\n",
    "        self.norm = LayerNorm(layer.size)\n",
    "    \n",
    "    def forward(self, x, memory, src_mask, tgt_mask):\n",
    "        for layer in self.layers:\n",
    "            x = layer(x, memory, src_mask, tgt_mask)\n",
    "        return self.norm(x)\n",
    "\n",
    "class DecoderLayer(nn.Module):\n",
    "    def __init__(self, size, self_attn, src_attn, feed_forward, dropout):\n",
    "        super(DecoderLayer, self).__init__()\n",
    "        self.size = size\n",
    "        # self-attention\n",
    "        self.self_attn = self_attn\n",
    "        # context attention from Encoder\n",
    "        self.src_attn = src_attn\n",
    "        self.feed_forward = feed_forward\n",
    "        self.sublayer = clones(SublayerConnection(size, dropout), 3)\n",
    "    \n",
    "    def forward(self, x, memory, src_mask, tgt_mask):\n",
    "        m = memory\n",
    "        \n",
    "        x = self.sublayer[0](x, lambda x: self.self_attn(x, x, x, tgt_mask))\n",
    "        # Context-Attention：context-attention q： decoder hidden，k,v： encoder hidden\n",
    "        x = self.sublayer[1](x, lambda x: self.src_attn(x, m, m, src_mask))\n",
    "        return self.sublayer[2](x, self.feed_forward)\n",
    "        "
   ]
  },
  {
   "cell_type": "code",
   "execution_count": null,
   "metadata": {
    "id": "sw-unPjWdvy_"
   },
   "outputs": [],
   "source": [
    "def subsequent_mask(size):\n",
    "    \"Mask out subsequent positions.\"\n",
    "\n",
    "    attn_shape = (1, size, size)\n",
    "    subsequent_mask = np.triu(np.ones(attn_shape), k=1).astype('uint8')\n",
    "    return torch.from_numpy(subsequent_mask) == 0"
   ]
  },
  {
   "cell_type": "markdown",
   "metadata": {
    "id": "hlKr2H9Kdvy_"
   },
   "source": [
    "### Transformer Model"
   ]
  },
  {
   "cell_type": "code",
   "execution_count": null,
   "metadata": {
    "id": "Co3cDqiidvzA"
   },
   "outputs": [],
   "source": [
    "class Transformer(nn.Module):\n",
    "    def __init__(self, encoder, decoder, src_embed, tgt_embed, generator):\n",
    "        super(Transformer, self).__init__()\n",
    "        self.encoder = encoder\n",
    "        self.decoder = decoder\n",
    "        self.src_embed = src_embed\n",
    "        self.tgt_embed = tgt_embed\n",
    "        self.generator = generator\n",
    "    \n",
    "    def encode(self, src, src_mask):\n",
    "        return self.encoder(self.src_embed(src), src_mask)\n",
    "    \n",
    "    def decode(self, memory, src_mask, tgt, tgt_mask):\n",
    "        return self.decoder(self.tgt_embed(tgt), memory, src_mask, tgt_mask)\n",
    "    \n",
    "    def forward(self, src, tgt, src_mask, tgt_mask):\n",
    "        memory = self.encode(src, src_mask)\n",
    "        return self.decode(memory, src_mask, tgt, tgt_mask)"
   ]
  },
  {
   "cell_type": "code",
   "execution_count": null,
   "metadata": {
    "id": "IypOcjNVdvzA"
   },
   "outputs": [],
   "source": [
    "class Generator(nn.Module):\n",
    "    # vocab: tgt_vocab\n",
    "    def __init__(self, d_model, vocab):\n",
    "        super(Generator, self).__init__()\n",
    "        # fc layer and reshape to vocab dim size\n",
    "        self.proj = nn.Linear(d_model, vocab)\n",
    "    \n",
    "    def forward(self, x):\n",
    "        # softmax\n",
    "        out = F.log_softmax(self.proj(x), dim=-1)\n",
    "        return out"
   ]
  },
  {
   "cell_type": "markdown",
   "metadata": {
    "id": "o920pSbLdvzA"
   },
   "source": [
    "### Define the Hyper Parameter and the Model"
   ]
  },
  {
   "cell_type": "code",
   "execution_count": null,
   "metadata": {
    "id": "KNMjEV36dvzA"
   },
   "outputs": [],
   "source": [
    "def make_model(src_vocab, tgt_vocab, N=6, d_model=512, d_ff=2048, h = 8, dropout=0.1):\n",
    "    c = copy.deepcopy\n",
    "    \n",
    "    # attention\n",
    "    attn = MultiHeadedAttention(h, d_model).to(DEVICE)\n",
    "    # feed forward\n",
    "    ff = PositionwiseFeedForward(d_model, d_ff, dropout).to(DEVICE)\n",
    "    # positional encoding\n",
    "    position = PositionalEncoding(d_model, dropout).to(DEVICE)\n",
    "    # Transformer model\n",
    "    model = Transformer(\n",
    "        Encoder(EncoderLayer(d_model, c(attn), c(ff), dropout).to(DEVICE), N).to(DEVICE),\n",
    "        Decoder(DecoderLayer(d_model, c(attn), c(attn), c(ff), dropout).to(DEVICE), N).to(DEVICE),\n",
    "        nn.Sequential(Embeddings(d_model, src_vocab).to(DEVICE), c(position)),\n",
    "        nn.Sequential(Embeddings(d_model, tgt_vocab).to(DEVICE), c(position)),\n",
    "        Generator(d_model, tgt_vocab)).to(DEVICE)\n",
    "    \n",
    "    # Initialize parameters with Glorot / fan_avg.\n",
    "    for p in model.parameters():\n",
    "        if p.dim() > 1:\n",
    "            # 这里初始化采用的是nn.init.xavier_uniform\n",
    "            nn.init.xavier_uniform_(p)\n",
    "    return model.to(DEVICE)"
   ]
  },
  {
   "cell_type": "markdown",
   "metadata": {
    "id": "BtZsHODcdvzA"
   },
   "source": [
    "### Model Training"
   ]
  },
  {
   "cell_type": "markdown",
   "metadata": {
    "id": "EbNkILXrdvzA"
   },
   "source": [
    "#### Label Smoothing"
   ]
  },
  {
   "cell_type": "code",
   "execution_count": null,
   "metadata": {
    "id": "3pQyISZydvzA"
   },
   "outputs": [],
   "source": [
    "class LabelSmoothing(nn.Module):\n",
    "    def __init__(self, size, padding_idx, smoothing=0.0):\n",
    "        super(LabelSmoothing, self).__init__()\n",
    "        self.criterion = nn.KLDivLoss(reduction='sum')\n",
    "        self.padding_idx = padding_idx\n",
    "        self.confidence = 1.0 - smoothing\n",
    "        self.smoothing = smoothing\n",
    "        self.size = size # vocab size\n",
    "        self.true_dist = None\n",
    "        \n",
    "    def forward(self, x, target):\n",
    "        assert x.size(1) == self.size\n",
    "        true_dist = x.data.clone()\n",
    "        true_dist.fill_(self.smoothing / (self.size - 2))\n",
    "        true_dist.scatter_(1, target.data.unsqueeze(1), self.confidence)\n",
    "        true_dist[:, self.padding_idx] = 0\n",
    "        mask = torch.nonzero(target.data == self.padding_idx)\n",
    "        if mask.dim() > 0:\n",
    "            true_dist.index_fill_(0, mask.squeeze(), 0.0)\n",
    "        self.true_dist = true_dist\n",
    "        return self.criterion(x, Variable(true_dist, requires_grad=False))"
   ]
  },
  {
   "cell_type": "code",
   "execution_count": null,
   "metadata": {
    "id": "0SSYPJsYdvzB"
   },
   "outputs": [],
   "source": [
    "class SimpleLossCompute:\n",
    "    \n",
    "    def __init__(self, generator, criterion, opt=None):\n",
    "        self.generator = generator\n",
    "        self.criterion = criterion\n",
    "        self.opt = opt\n",
    "        \n",
    "    def __call__(self, x, y, norm):\n",
    "        x = self.generator(x)\n",
    "        loss = self.criterion(x.contiguous().view(-1, x.size(-1)), \n",
    "                              y.contiguous().view(-1)) / norm\n",
    "        loss.backward()\n",
    "        if self.opt is not None:\n",
    "            self.opt.step()\n",
    "            self.opt.optimizer.zero_grad()\n",
    "        return loss.data.item() * norm.float()"
   ]
  },
  {
   "cell_type": "markdown",
   "metadata": {
    "id": "RNaAQ_jedvzB"
   },
   "source": [
    "### Optimizer"
   ]
  },
  {
   "cell_type": "code",
   "execution_count": null,
   "metadata": {
    "id": "cNOBZ3rTdvzB"
   },
   "outputs": [],
   "source": [
    "class NoamOpt:\n",
    "    \"Optim wrapper that implements rate.\"\n",
    "    def __init__(self, model_size, factor, warmup, optimizer):\n",
    "        self.optimizer = optimizer\n",
    "        self._step = 0\n",
    "        self.warmup = warmup\n",
    "        self.factor = factor\n",
    "        self.model_size = model_size\n",
    "        self._rate = 0\n",
    "        \n",
    "    def step(self):\n",
    "        \"Update parameters and rate\"\n",
    "        self._step += 1\n",
    "        rate = self.rate()\n",
    "        for p in self.optimizer.param_groups:\n",
    "            p['lr'] = rate\n",
    "        self._rate = rate\n",
    "        self.optimizer.step()\n",
    "        \n",
    "    def rate(self, step = None):\n",
    "        \"Implement `lrate` above\"\n",
    "        if step is None:\n",
    "            step = self._step\n",
    "        return self.factor * (self.model_size ** (-0.5) * min(step ** (-0.5), step * self.warmup ** (-1.5)))\n",
    "        \n",
    "def get_std_opt(model):\n",
    "    return NoamOpt(model.src_embed[0].d_model, 2, 4000,\n",
    "            torch.optim.Adam(model.parameters(), lr=0, betas=(0.9, 0.98), eps=1e-9))"
   ]
  },
  {
   "cell_type": "code",
   "execution_count": null,
   "metadata": {
    "id": "uq2kYazsdvzB"
   },
   "outputs": [],
   "source": [
    "def run_epoch(data, model, loss_compute, epoch):\n",
    "    start = time.time()\n",
    "    total_tokens = 0.\n",
    "    total_loss = 0.\n",
    "    tokens = 0.\n",
    "    \n",
    "    for i, batch in enumerate(data):\n",
    "        out = model(batch.src, batch.trg, batch.src_mask, batch.trg_mask)\n",
    "        loss = loss_compute(out, batch.trg_y, batch.ntokens)\n",
    "        \n",
    "        total_loss += loss\n",
    "        total_tokens += batch.ntokens\n",
    "        tokens += batch.ntokens\n",
    "    \n",
    "        if i % 50 == 1:\n",
    "                elapsed = time.time() - start\n",
    "                print(\"Epoch %d Batch: %d Loss: %f Tokens per Sec: %fs\" % (epoch, i - 1, loss / batch.ntokens, (tokens.float() / elapsed / 1000.)))\n",
    "                start = time.time()\n",
    "                tokens = 0\n",
    "\n",
    "    return total_loss / total_tokens\n",
    "\n",
    "def train(data, model, criterion, optimizer):\n",
    "    # set the best loss to a large number\n",
    "    best_dev_loss = 1e5\n",
    "    \n",
    "    for epoch in range(EPOCHS):\n",
    "        # train the model\n",
    "        model.train()\n",
    "        loss_compute = SimpleLossCompute(model.generator, criterion, optimizer)\n",
    "        run_epoch(data.train_data, model, loss_compute, epoch)\n",
    "        model.eval()\n",
    "        \n",
    "        # evaluate in dev data\n",
    "        print('>>>>> Evaluate')\n",
    "        dev_loss = run_epoch(data.dev_data, model, SimpleLossCompute(model.generator, criterion, None), epoch)\n",
    "        print('<<<<< Evaluate loss: %f' % dev_loss)\n",
    "        \n",
    "        # TODO: 如果当前epoch的模型在dev集上的loss优于之前记录的最优loss则保存当前模型，并更新最优loss值\n",
    "        if best_dev_loss > dev_loss:\n",
    "            torch.save(model.state_dict(), SAVE_FILE)\n",
    "            best_dev_loss = dev_loss\n",
    "        \n",
    "        \n",
    "        print()\n",
    "        "
   ]
  },
  {
   "cell_type": "code",
   "execution_count": null,
   "metadata": {
    "id": "k5bDvhYrdvzB"
   },
   "outputs": [],
   "source": [
    "# prepare the data\n",
    "\n",
    "data = PrepareData(TRAIN_FILE, DEV_FILE) \n",
    "src_vocab = len(data.en_word_dict)\n",
    "tgt_vocab = len(data.cn_word_dict)\n",
    "print(\"src_vocab %d\" % src_vocab)\n",
    "print(\"tgt_vocab %d\" % tgt_vocab)\n",
    "\n",
    "model = make_model(\n",
    "                    src_vocab, \n",
    "                    tgt_vocab, \n",
    "                    LAYERS, \n",
    "                    D_MODEL, \n",
    "                    D_FF,\n",
    "                    H_NUM,\n",
    "                    DROPOUT\n",
    "                )\n",
    "\n",
    "# training\n",
    "print(\">>>>>>>>>>> Start Train\")\n",
    "train_start = time.time()\n",
    "criterion = LabelSmoothing(tgt_vocab, padding_idx = 0, smoothing= 0.0)\n",
    "optimizer = NoamOpt(D_MODEL, 1, 2000, torch.optim.Adam(model.parameters(), lr=0, betas=(0.9,0.98), eps=1e-9))\n",
    "\n",
    "train(data, model, criterion, optimizer)\n",
    "print(f\"<<<<<<< finished train, cost {time.time()-train_start:.4f} seconds\")"
   ]
  },
  {
   "cell_type": "code",
   "execution_count": null,
   "metadata": {
    "id": "J2h_XxmRhnnY"
   },
   "outputs": [],
   "source": [
    "# import nltk\n",
    "# nltk.download('punkt')"
   ]
  },
  {
   "cell_type": "markdown",
   "metadata": {
    "id": "a_8UoCnVdvzC"
   },
   "source": [
    "### Model Prediction"
   ]
  },
  {
   "cell_type": "code",
   "execution_count": null,
   "metadata": {
    "id": "EeP0pmfTdvzD"
   },
   "outputs": [],
   "source": [
    "def greedy_decode(model, src, src_mask, max_len, start_symbol):\n",
    "    \n",
    "    # encode\n",
    "    memory = model.encode(src, src_mask)\n",
    "    ys = torch.ones(1, 1).fill_(start_symbol).type_as(src.data)\n",
    "    \n",
    "    for i in range(max_len-1):\n",
    "        # decode\n",
    "        out = model.decode(memory, \n",
    "                           src_mask, \n",
    "                           Variable(ys), \n",
    "                           Variable(subsequent_mask(ys.size(1)).type_as(src.data)))\n",
    "        \n",
    "        # log_softmax to get the probability\n",
    "        prob = model.generator(out[:, -1])\n",
    "        # get the predicted word and id\n",
    "        _, next_word = torch.max(prob, dim = 1)\n",
    "        next_word = next_word.data[0]\n",
    "        \n",
    "        ys = torch.cat([ys, \n",
    "                        torch.ones(1, 1).type_as(src.data).fill_(next_word)], dim=1)\n",
    "    return ys\n",
    "    \n",
    "def evaluate(data, model):\n",
    "    \n",
    "    with torch.no_grad():\n",
    "        for i in range(len(data.dev_en)):\n",
    "            # print the Eng sentence\n",
    "            en_sent = \" \".join([data.en_index_dict[word] for word in data.dev_en[i]])\n",
    "            print(\"\\n\" + en_sent)\n",
    "            \n",
    "            # print the CN sentence\n",
    "            cn_sent = \" \".join([data.cn_index_dict[word] for word in data.dev_cn[i]])\n",
    "            print(\"\".join(cn_sent))\n",
    "            \n",
    "            # change the dev text into tensor\n",
    "            src = torch.from_numpy(np.array(data.dev_en[i])).long().to(DEVICE)\n",
    "            # add one dim\n",
    "            src = src.unsqueeze(0)\n",
    "            # attention mask\n",
    "            src_mask = (src != 0).unsqueeze(-2)\n",
    "            # decode and predict\n",
    "            out = greedy_decode(model, src, src_mask, max_len=MAX_LENGTH, start_symbol=data.cn_word_dict[\"BOS\"])\n",
    "            \n",
    "            translation = []\n",
    "            \n",
    "            for j in range(1, out.size(1)):\n",
    "                \n",
    "                sym = data.cn_index_dict[out[0, j].item()]\n",
    "                \n",
    "                if sym != 'EOS':\n",
    "                    translation.append(sym)\n",
    "                \n",
    "                else:\n",
    "                    break\n",
    "            # print the predicted CN translation\n",
    "            print(\"translation: %s\" % \" \".join(translation))\n",
    "    "
   ]
  },
  {
   "cell_type": "code",
   "execution_count": null,
   "metadata": {
    "id": "nuqtmOzUdvzD"
   },
   "outputs": [],
   "source": [
    "# load the model\n",
    "model.load_state_dict(torch.load(SAVE_FILE))\n",
    "\n",
    "print(\">>>>>>> start evaluate\")\n",
    "evaluate_start  = time.time()\n",
    "evaluate(data, model)         \n",
    "print(f\"<<<<<<< finished evaluate, cost {time.time()-evaluate_start:.4f} seconds\")"
   ]
  },
  {
   "cell_type": "code",
   "execution_count": null,
   "metadata": {
    "id": "9DB1wmA0dvzD"
   },
   "outputs": [],
   "source": []
  }
 ],
 "metadata": {
  "accelerator": "GPU",
  "colab": {
   "collapsed_sections": [],
   "name": "transformer.ipynb",
   "private_outputs": true,
   "provenance": []
  },
  "kernelspec": {
   "display_name": "Python 3",
   "language": "python",
   "name": "python3"
  },
  "language_info": {
   "codemirror_mode": {
    "name": "ipython",
    "version": 3
   },
   "file_extension": ".py",
   "mimetype": "text/x-python",
   "name": "python",
   "nbconvert_exporter": "python",
   "pygments_lexer": "ipython3",
   "version": "3.7.4"
  }
 },
 "nbformat": 4,
 "nbformat_minor": 1
}
